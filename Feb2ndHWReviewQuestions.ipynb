{
 "cells": [
  {
   "attachments": {},
   "cell_type": "markdown",
   "metadata": {},
   "source": [
    "#REVIEW QUESTIONS\n",
    "***\n",
    "<span style='color:Red'> What kind of language is Python considered? </span>\n",
    "## <span style='background :red'> High-level language </span>\n",
    "\n",
    "***\n",
    "<span style='color:Orange'> What's a natural language? </span>\n",
    "## <span style='background :orange'> Spoken languages that form on their own like slang </span>\n",
    "\n",
    "***\n",
    "<span style='color:Green'> What are Algorithms? </span>\n",
    "## <span style='background :green'> Series of steps to solve a current problem </span>\n",
    "\n",
    "***\n",
    "<span style='color:Blue'> What is the program we use to write Python in? </span>\n",
    "## <span style='background :blue'> VS Code </span>\n",
    "\n",
    "***\n",
    "<span style='color:Indigo'> What's the file extension of a Python file? </span>\n",
    "## <span style='background :indigo'> .py </span>\n",
    "\n",
    "***\n",
    "<span style='color:Violet'> What is the area called where we put in our commands? </span>\n",
    "## <span style='background :violet'> terminal </span>\n",
    "\n",
    "***\n",
    "<span style='color:Brown'> What is the #1 rule of coding / debugging? </span>\n",
    "## <span style='background :brown'> Complexity is the enemy of efficiency </span>"
   ]
  }
 ],
 "metadata": {
  "language_info": {
   "name": "python"
  },
  "orig_nbformat": 4
 },
 "nbformat": 4,
 "nbformat_minor": 2
}
