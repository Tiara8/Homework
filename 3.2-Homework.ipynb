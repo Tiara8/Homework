{
 "cells": [
  {
   "cell_type": "code",
   "execution_count": 18,
   "metadata": {},
   "outputs": [
    {
     "name": "stdout",
     "output_type": "stream",
     "text": [
      "[1988, 'Tiara', 34.33, ['purple', 'yellow', 'red', 'black'], 8]\n",
      "[1988, 'Tiara', 34.33, ['purple', 'yellow', 'red', 'black'], 8, 'pizza']\n",
      "The length of this list is  6\n",
      "[1988, 'Tiara', 34.33]\n",
      "Extended first list... [1988, 'Tiara', 34.33, ['purple', 'yellow', 'red', 'black'], 8, 'pizza', 1988, 'Tiara', 34.33]\n",
      "Sort 1 -  ['cat', 'dog', 'fish', 'gerbil', 'turtle']\n",
      "Extended anotherList... ['snake', 'monkey', 'parrot', 'cat', 'dog', 'fish', 'gerbil', 'turtle']\n",
      "Copied List: ['cat', 'dog', 'fish', 'gerbil', 'turtle']\n"
     ]
    }
   ],
   "source": [
    "L = [1988, \"Tiara\", 34.33, [\"purple\", \"yellow\", \"red\", \"black\"], 8]\n",
    "print(L)\n",
    "\n",
    "L.append(\"pizza\")\n",
    "print(L)\n",
    "\n",
    "listLength = len(L)\n",
    "print(\"The length of this list is \", listLength)\n",
    "\n",
    "new_list = L[0:3]\n",
    "print(new_list)\n",
    "\n",
    "L.extend(new_list)\n",
    "print(\"Extended first list...\", L)\n",
    "\n",
    "simList = [\"dog\", \"cat\", \"fish\", \"gerbil\", \"turtle\"]\n",
    "simList.sort()\n",
    "print(\"Sort 1 - \", simList)\n",
    "\n",
    "anotherList = [\"snake\", \"monkey\", \"parrot\"]\n",
    "anotherList.extend(simList)\n",
    "print(\"Extended anotherList...\", anotherList)\n",
    "\n",
    "anotherList = simList.copy()\n",
    "print(\"Copied List:\", anotherList)\n"
   ]
  },
  {
   "cell_type": "code",
   "execution_count": 38,
   "metadata": {},
   "outputs": [
    {
     "name": "stdout",
     "output_type": "stream",
     "text": [
      "(9, 18, 11, 15, 2)\n",
      "(9, 18, 11, 15, 2, 9, 18, 11, 15, 2, 9, 18, 11, 15, 2)\n",
      "11\n",
      "(9, 18, 18, 9)\n",
      "9 18 18 9\n",
      "(50,)\n",
      "(9, 18, 11, 15, 2, 9, 18, 11, 15, 2, 9, 18, 11, 15, 2, 9, 18, 18, 9)\n"
     ]
    }
   ],
   "source": [
    "tup1 = (9, 18, 11, 15, 2)\n",
    "print(tup1)\n",
    "\n",
    "tup2 = (tup1 * 3)\n",
    "print(tup2)\n",
    "\n",
    "print(tup2[12])\n",
    "\n",
    "#Cannot sort a tuple as they maintain the order of the data at insertion\n",
    "\n",
    "tup3 = tup2[0], tup2[1], tup2[6], tup2[5]\n",
    "print(tup3)\n",
    "\n",
    "var1 = tup3[0]\n",
    "var2 = tup3[1]\n",
    "var3 = tup3[2]\n",
    "var4 = tup3[3]\n",
    "print(var1, var2, var3, var4)\n",
    "\n",
    "tup4 = (50,)\n",
    "print(tup4)\n",
    "\n",
    "tup5 = tup2 + tup3\n",
    "print(tup5)"
   ]
  },
  {
   "cell_type": "code",
   "execution_count": 51,
   "metadata": {},
   "outputs": [
    {
     "name": "stdout",
     "output_type": "stream",
     "text": [
      "{'tulips', ('banana', 'peach', 'dragonfruit'), 'sunflower', 'rose'}\n",
      "{'tulips', 'sunflower', 'investing', 'traveling', ('banana', 'peach', 'dragonfruit'), 'rose', 'gym'}\n",
      "{'gym', 'investing'}\n",
      "cleared set... set()\n",
      "{'tulips', 'sunflower', 'investing', 'traveling', 'gym'}\n"
     ]
    }
   ],
   "source": [
    "set1 = {\"rose\", \"sunflower\", \"tulips\"}\n",
    "\n",
    "fruitlist = (\"banana\", \"peach\", \"dragonfruit\")\n",
    "\n",
    "set1.add(fruitlist)\n",
    "print(set1)\n",
    "\n",
    "set2 = {\"gym\", \"investing\", \"traveling\"}\n",
    "\n",
    "set3 = set1.union(set2)\n",
    "print(set3)\n",
    "\n",
    "set2.pop()\n",
    "print(set2)\n",
    "\n",
    "set1.clear()\n",
    "print(\"cleared set...\", set1)\n",
    "\n",
    "set3.discard(\"rose\")\n",
    "set3.remove(fruitlist)\n",
    "print(set3)"
   ]
  },
  {
   "cell_type": "code",
   "execution_count": 57,
   "metadata": {},
   "outputs": [
    {
     "name": "stdout",
     "output_type": "stream",
     "text": [
      "Bachelor 1 is  33\n",
      "dict_keys(['age', 'employed', 'works out?', 'ready for marriage?', 'number of children', 'favorite color', 'favorite fruits'])\n",
      "dict_values([33, True, 'yes', 'Tiara', 1, 'purple', ('peach', 'blueberry', 'banana')])\n",
      "{'age': 33, 'employed': True, 'works out?': 'yes', 'number of children': 1, 'favorite color': 'purple', 'favorite fruits': ('peach', 'blueberry', 'banana')}\n",
      "{}\n"
     ]
    }
   ],
   "source": [
    "bachelor1 = {\n",
    "    \"age\": 33,\n",
    "    \"employed\": True,\n",
    "    \"works out?\": \"yes\",\n",
    "    \"ready for marriage?\": \"unsure\",\n",
    "    \"number of children\": 1\n",
    "}\n",
    "\n",
    "a = bachelor1.get(\"age\")\n",
    "print(\"Bachelor 1 is \", a)\n",
    "\n",
    "bachelor1.update({\"ready for marriage?\": \"Tiara\"})\n",
    "\n",
    "bachelor1.update({\"favorite color\": \"purple\"})\n",
    "bachelor1.update({\"favorite fruits\": (\"peach\", \"blueberry\", \"banana\")})\n",
    "\n",
    "k = bachelor1.keys()\n",
    "print(k)\n",
    "\n",
    "v = bachelor1.values()\n",
    "print(v)\n",
    "\n",
    "bachelor2 = bachelor1.copy()\n",
    "bachelor2.pop(\"ready for marriage?\")\n",
    "print(bachelor2)\n",
    "\n",
    "bachelor2.clear()\n",
    "print(bachelor2)"
   ]
  }
 ],
 "metadata": {
  "kernelspec": {
   "display_name": "Python 3",
   "language": "python",
   "name": "python3"
  },
  "language_info": {
   "codemirror_mode": {
    "name": "ipython",
    "version": 3
   },
   "file_extension": ".py",
   "mimetype": "text/x-python",
   "name": "python",
   "nbconvert_exporter": "python",
   "pygments_lexer": "ipython3",
   "version": "3.11.1"
  },
  "orig_nbformat": 4,
  "vscode": {
   "interpreter": {
    "hash": "662be2ac3921d306b3a2a1982832a86ec4ae6b6495da40862ffff3da0880f412"
   }
  }
 },
 "nbformat": 4,
 "nbformat_minor": 2
}
