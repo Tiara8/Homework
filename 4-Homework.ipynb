{
 "cells": [
  {
   "attachments": {},
   "cell_type": "markdown",
   "metadata": {},
   "source": [
    "#What does one need to do to use a module?\n",
    "*Import the respective module into the code-base by using the import statement*\n"
   ]
  },
  {
   "attachments": {},
   "cell_type": "markdown",
   "metadata": {},
   "source": [
    "#Name a Module (not the DateTime Nodule) we looked at and write a line or 2 of code as an example using this module.\n",
    "*The Random Module. It can return random numbers, elements and sequences*\n",
    "\n",
    "\n"
   ]
  },
  {
   "cell_type": "code",
   "execution_count": null,
   "metadata": {},
   "outputs": [],
   "source": [
    "import random\n",
    "\n",
    "orderedList = [\"solid hardwood\", \"wood laminate\", \"carpet\", \"porcelain tile\", \"ceramic tile\", \"sheet vinyl\", \"vinyl tile\"]\n",
    "random.shuffle(orderedList)\n",
    "print(\"Shuffled flooring choices list...\", orderedList)"
   ]
  },
  {
   "attachments": {},
   "cell_type": "markdown",
   "metadata": {},
   "source": [
    "#What is a benefit of using Exception handling?\n",
    "*It ensure too many errors are passed, causing a program to crash*\n",
    "\n",
    "#NumPy arrays are like what Python data type?\n",
    "*arrays are like list in that they are a sequence of elements that are mutable and not fixed in size*\n",
    "\n",
    "#What is one of the main benefits of using NumPy arrays.\n",
    "*NumPy arrays are faster than list*\n",
    "\n",
    "#What is one of the main requirements about the 'dtype' of NumPy arrays?\n",
    "*\n",
    "#Of the 10 uses of NumPy, name 2.\n",
    "*Arithmetic operations and Linear algebra*\n",
    "\n",
    "#Name one of the other libraries we'll use with NumPy?\n",
    "*Pandas*\n",
    "\n",
    "#What is the shape of NumPy arrays?\n",
    "*A tuple of non-negative integers that specify the dimensions, length and size of each array*\n",
    "\n",
    "#What is a Tensor?\n",
    "*An array with 3+ dimensions*\n",
    "\n",
    "#Name a reason why it's better using NumPy for Data Analysis than using a Python List?\n",
    "*NumPy uses lest memory than Python List*\n",
    "\n",
    "#When creating an \"empty\" array, where do the elements come from?\n",
    "*It's random and depends on the state of the memory*"
   ]
  },
  {
   "cell_type": "code",
   "execution_count": null,
   "metadata": {},
   "outputs": [],
   "source": [
    "#Use the DateTime module to get Current Date and Time, and save it to a variable. Then extract just the Full month name form that variable.\n",
    "\n",
    "import datetime as dt\n",
    "\n",
    "t = dt.datetime.now()\n",
    "print(\"The current date and time is \", t)\n"
   ]
  },
  {
   "cell_type": "code",
   "execution_count": null,
   "metadata": {},
   "outputs": [],
   "source": [
    "import datetime\n",
    "thisMonth = datetime.datetime.now()\n",
    "\n",
    "print(\"This month is\", thisMonth.strftime(\"%B\"))\n",
    "\n",
    "\n"
   ]
  },
  {
   "cell_type": "code",
   "execution_count": null,
   "metadata": {},
   "outputs": [],
   "source": [
    "#Write a simple function that takes 2 parameters -- a  first name and a day name.\n",
    "\n",
    "def myGreeting( name, day ):\n",
    "    \n",
    "    print(\"My name is\", name)\n",
    "    print(\"Happy\", day)\n",
    "    \n",
    "    \n",
    "myGreeting(\"Tiara!\", \"Sunday!\")\n"
   ]
  },
  {
   "cell_type": "code",
   "execution_count": null,
   "metadata": {},
   "outputs": [],
   "source": [
    "#Import NumPy, use one of the NumPy methods and create an array with a shape of ... (2, 3, 2). You can use the reshape method -- `.reshape()`\n",
    "\n",
    "import numpy as np\n",
    "\n",
    "a1 = np.array([2, 3, 2])\n",
    "print(\"a1...\\n\", a1)"
   ]
  },
  {
   "cell_type": "code",
   "execution_count": null,
   "metadata": {},
   "outputs": [],
   "source": [
    "#Use NumPy `.linspace()` to create an array with 6 linearly spaced values between 0 and 20\n",
    "\n",
    "import numpy as np\n",
    "\n",
    "i = np.linspace(0, 20, num=6)\n",
    "print(\"Array i ...\", i)\n",
    "\n",
    "#Make a Deep Copy of the above array you created.\n",
    "\n",
    "import copy\n",
    "\n",
    "i2 = copy.deepcopy(i)\n",
    "print(\"Seeing double ...\", i)"
   ]
  },
  {
   "attachments": {},
   "cell_type": "markdown",
   "metadata": {},
   "source": [
    "#What are 2 reasons we use NumPy arrays over Python Lists\n",
    "*NumPy occupies less memory and are faster than Python List*\n",
    "\n"
   ]
  }
 ],
 "metadata": {
  "kernelspec": {
   "display_name": "Python 3",
   "language": "python",
   "name": "python3"
  },
  "language_info": {
   "codemirror_mode": {
    "name": "ipython",
    "version": 3
   },
   "file_extension": ".py",
   "mimetype": "text/x-python",
   "name": "python",
   "nbconvert_exporter": "python",
   "pygments_lexer": "ipython3",
   "version": "3.11.1"
  },
  "orig_nbformat": 4,
  "vscode": {
   "interpreter": {
    "hash": "662be2ac3921d306b3a2a1982832a86ec4ae6b6495da40862ffff3da0880f412"
   }
  }
 },
 "nbformat": 4,
 "nbformat_minor": 2
}
