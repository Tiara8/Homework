{
 "cells": [
  {
   "attachments": {},
   "cell_type": "markdown",
   "metadata": {},
   "source": [
    "1.What is an algorithm? <br>\n",
    "a.A series of steps to solve a problem at hand <br>\n",
    "\n",
    "2.Why is Python considered to be a high-level language? <br>\n",
    "a.Because it's easier for humans to understand <br>\n",
    "\n",
    "3.Is Python a Natural or a Formal language? <br>\n",
    "a.Python is a formal language <br>\n",
    "\n",
    "4.Variable names may not start with certain characters - name two <br>\n",
    "a. Numbers and special characters <br>\n",
    "\n",
    "5.What is a Semantic error? <br>\n",
    "a.Happens when the code is grammatically correct but doesn't make sense or produce expected results <br>\n",
    "\n",
    "6.What is the #1 rule of coding/debugging? <br>\n",
    "a.Complexity is the enemy of efficiency! <br>\n",
    "\n",
    "7.List 5 Python reserved words. <br>\n",
    "a.def <br>\n",
    "b.or <br>\n",
    "c.with <br>\n",
    "d.try <br>\n",
    "e.elif <br>\n",
    "\n",
    "8.Add and name, a web link for any Python coding article, in your markdown cell <br>\n",
    "a. [Pong](https://www.geeksforgeeks.org/create-a-pong-game-in-python-pygame/) <br>"
   ]
  },
  {
   "cell_type": "code",
   "execution_count": 4,
   "metadata": {},
   "outputs": [
    {
     "data": {
      "text/plain": [
       "'\\nMy name is Tiara \\nMy favorite food is sushi\\nMy dream job is a 7 figure remote working Data Analyst under my own company\\n'"
      ]
     },
     "execution_count": 4,
     "metadata": {},
     "output_type": "execute_result"
    }
   ],
   "source": [
    "\"\"\"\n",
    "My name is Tiara \n",
    "My favorite food is sushi\n",
    "My dream job is a 7 figure remote working Data Analyst under my own company\n",
    "\"\"\""
   ]
  },
  {
   "cell_type": "code",
   "execution_count": 15,
   "metadata": {},
   "outputs": [
    {
     "name": "stdout",
     "output_type": "stream",
     "text": [
      "What's up world!\n",
      "8.25\n",
      "34\n",
      "{'name': 'Tiara', 'age': 34}\n",
      "['strawberry', 'dragonfruit', 'peach']\n",
      "The length of a is 16\n",
      "'\n",
      "ing Data Analytics \n",
      "Learning Data Analytics and Python is great!\n",
      "name age length\n",
      "Hi my name is Tiara, I am short and 34 years old today.\n",
      "Hi my name is Tiara, I am short and 34.0 years old today.\n"
     ]
    }
   ],
   "source": [
    "#casting to a string\n",
    "a = str(\"What's up world!\")\n",
    "print(a)\n",
    "\n",
    "#casting to a float\n",
    "b = float(8.25)\n",
    "print(b)\n",
    "\n",
    "#casting to an integer\n",
    "c = int(34.3)\n",
    "print(c)\n",
    "\n",
    "#casting to a dictionary\n",
    "t = {\"name\" : \"Tiara\", \"age\" : 34}\n",
    "print(t)\n",
    "\n",
    "#casting to a list\n",
    "f = [\"strawberry\", \"dragonfruit\", \"peach\"]\n",
    "print(f)\n",
    "\n",
    "print(\"The length of a is\", len(a))\n",
    "\n",
    "print(a[4:5])\n",
    "\n",
    "savvy = \"Learning Data Analytics and Python is Awesome!\"\n",
    "\n",
    "print(savvy[5:24])\n",
    "\n",
    "print(savvy.replace(\"Awesome\", \"great\"))\n",
    "\n",
    "h, i, j = \"name\", \"age\", \"length\"\n",
    "\n",
    "print(h, i, j)\n",
    "\n",
    "name = \"Tiara\"\n",
    "tall = \"short\"\n",
    "so = 34\n",
    "minibio = \"Hi my name is {}, I am {} and {} years old today.\"\n",
    "print(minibio.format(name, tall, so))\n",
    "\n",
    "so = 34.0\n",
    "print(minibio.format(name, tall, so))\n",
    "\n"
   ]
  }
 ],
 "metadata": {
  "kernelspec": {
   "display_name": "Python 3",
   "language": "python",
   "name": "python3"
  },
  "language_info": {
   "codemirror_mode": {
    "name": "ipython",
    "version": 3
   },
   "file_extension": ".py",
   "mimetype": "text/x-python",
   "name": "python",
   "nbconvert_exporter": "python",
   "pygments_lexer": "ipython3",
   "version": "3.11.1"
  },
  "orig_nbformat": 4,
  "vscode": {
   "interpreter": {
    "hash": "662be2ac3921d306b3a2a1982832a86ec4ae6b6495da40862ffff3da0880f412"
   }
  }
 },
 "nbformat": 4,
 "nbformat_minor": 2
}
